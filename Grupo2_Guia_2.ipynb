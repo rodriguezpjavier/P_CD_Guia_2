{
  "cells": [
    {
      "cell_type": "markdown",
      "metadata": {
        "id": "view-in-github",
        "colab_type": "text"
      },
      "source": [
        "<a href=\"https://colab.research.google.com/github/rodriguezpjavier/P_CD_Guia_2/blob/main/Grupo2_Guia_2.ipynb\" target=\"_parent\"><img src=\"https://colab.research.google.com/assets/colab-badge.svg\" alt=\"Open In Colab\"/></a>"
      ]
    },
    {
      "cell_type": "markdown",
      "metadata": {
        "id": "R1eyqBGSScta"
      },
      "source": [
        "#**Entendimiento del Set de Datos [telecom_churn]**\n",
        "\n",
        "El dataset telecom_churn contiene información detallada sobre clientes de una empresa de telecomunicaciones, incluyendo datos generales, planes contratados, uso del servicio telefónico y llamadas al servicio al cliente. Su propósito principal es analizar patrones de deserción de clientes, identificados a través de la variable churn, que indica si un cliente ha abandonado la empresa (1) o sigue siendo cliente (0).\n",
        "\n",
        "Dentro del dataset, encontramos información general como el estado (state) donde reside el cliente, el código de área (area code), y el número de teléfono (phone number), aunque esta última variable no aporta información útil para el análisis, ya que es un identificador único.\n",
        "\n",
        "Además, el dataset registra el tiempo que un cliente ha estado en la empresa a través de la variable account length, lo que puede ayudar a analizar si la duración del contrato influye en la deserción. También se incluyen detalles sobre los planes contratados, como si el cliente tiene un plan internacional (international plan), que le permite realizar llamadas internacionales, o un buzón de voz (voice mail plan), que le permite recibir mensajes de voz.\n",
        "\n",
        "En cuanto al uso del servicio, se registran datos detallados sobre el tiempo en llamadas y los costos asociados. Se divide en tres períodos del día: diurno (total day minutes, total day calls, total day charge), vespertino (total eve minutes, total eve calls, total eve charge) y nocturno (total night minutes, total night calls, total night charge), lo que permite evaluar si hay patrones de consumo que influyen en la deserción. También se incluye información sobre el uso del servicio internacional, con variables como total intl minutes (minutos en llamadas internacionales), total intl calls (cantidad de llamadas internacionales) y total intl charge (costos por llamadas internacionales).\n",
        "\n",
        "Otro aspecto clave del dataset es el número de llamadas al servicio al cliente (customer service calls), ya que una mayor cantidad de llamadas puede indicar insatisfacción y estar relacionada con la decisión del cliente de abandonar la empresa.\n",
        "\n",
        "Finalmente, la variable más importante del análisis es churn, que indica si un cliente ha desertado de la empresa. A partir de esta variable, podemos analizar qué factores influyen en la deserción y encontrar patrones en los clientes que tienen mayor probabilidad de abandonar el servicio.\n"
      ]
    },
    {
      "cell_type": "markdown",
      "source": [],
      "metadata": {
        "id": "7dGvqFTDvYYX"
      }
    },
    {
      "cell_type": "markdown",
      "metadata": {
        "id": "-gqRGJ8yFs5Y"
      },
      "source": [
        "# **Seccion1**: *Exploración y Limpieza de Datos*"
      ]
    },
    {
      "cell_type": "code",
      "execution_count": null,
      "metadata": {
        "id": "wuoyvrE0vQ09",
        "outputId": "6f21327a-56bd-4ef2-8121-f34446019351"
      },
      "outputs": [
        {
          "data": {
            "text/plain": [
              "True"
            ]
          },
          "execution_count": 19,
          "metadata": {},
          "output_type": "execute_result"
        }
      ],
      "source": [
        "# Solución propuesta\n",
        "import pandas as pd #Importación de pandas al kernel\n",
        "import os #Importación os\n",
        "os.getcwd() #Validación directorio de trabajo actual\n",
        "os.path.exists('C:\\\\Users\\\\David Linares\\\\Programación Ciencia de Datos/telecom_churn.csv')#Validación existencia archivo CSV"
      ]
    },
    {
      "cell_type": "code",
      "execution_count": null,
      "metadata": {
        "id": "Dz9xtoX1t2X5",
        "outputId": "51eab24f-84b6-4859-d0aa-d381827171ab"
      },
      "outputs": [
        {
          "data": {
            "text/html": [
              "<div>\n",
              "<style scoped>\n",
              "    .dataframe tbody tr th:only-of-type {\n",
              "        vertical-align: middle;\n",
              "    }\n",
              "\n",
              "    .dataframe tbody tr th {\n",
              "        vertical-align: top;\n",
              "    }\n",
              "\n",
              "    .dataframe thead th {\n",
              "        text-align: right;\n",
              "    }\n",
              "</style>\n",
              "<table border=\"1\" class=\"dataframe\">\n",
              "  <thead>\n",
              "    <tr style=\"text-align: right;\">\n",
              "      <th></th>\n",
              "      <th>state</th>\n",
              "      <th>account length</th>\n",
              "      <th>area code</th>\n",
              "      <th>phone number</th>\n",
              "      <th>international plan</th>\n",
              "      <th>voice mail plan</th>\n",
              "      <th>number vmail messages</th>\n",
              "      <th>total day minutes</th>\n",
              "      <th>total day calls</th>\n",
              "      <th>total day charge</th>\n",
              "      <th>...</th>\n",
              "      <th>total eve calls</th>\n",
              "      <th>total eve charge</th>\n",
              "      <th>total night minutes</th>\n",
              "      <th>total night calls</th>\n",
              "      <th>total night charge</th>\n",
              "      <th>total intl minutes</th>\n",
              "      <th>total intl calls</th>\n",
              "      <th>total intl charge</th>\n",
              "      <th>customer service calls</th>\n",
              "      <th>churn</th>\n",
              "    </tr>\n",
              "  </thead>\n",
              "  <tbody>\n",
              "    <tr>\n",
              "      <th>0</th>\n",
              "      <td>KS</td>\n",
              "      <td>128</td>\n",
              "      <td>415</td>\n",
              "      <td>382-4657</td>\n",
              "      <td>no</td>\n",
              "      <td>yes</td>\n",
              "      <td>25</td>\n",
              "      <td>265.1</td>\n",
              "      <td>110</td>\n",
              "      <td>45.07</td>\n",
              "      <td>...</td>\n",
              "      <td>99</td>\n",
              "      <td>16.78</td>\n",
              "      <td>244.7</td>\n",
              "      <td>91</td>\n",
              "      <td>11.01</td>\n",
              "      <td>10.0</td>\n",
              "      <td>3</td>\n",
              "      <td>2.70</td>\n",
              "      <td>1</td>\n",
              "      <td>False</td>\n",
              "    </tr>\n",
              "    <tr>\n",
              "      <th>1</th>\n",
              "      <td>OH</td>\n",
              "      <td>107</td>\n",
              "      <td>415</td>\n",
              "      <td>371-7191</td>\n",
              "      <td>no</td>\n",
              "      <td>yes</td>\n",
              "      <td>26</td>\n",
              "      <td>161.6</td>\n",
              "      <td>123</td>\n",
              "      <td>27.47</td>\n",
              "      <td>...</td>\n",
              "      <td>103</td>\n",
              "      <td>16.62</td>\n",
              "      <td>254.4</td>\n",
              "      <td>103</td>\n",
              "      <td>11.45</td>\n",
              "      <td>13.7</td>\n",
              "      <td>3</td>\n",
              "      <td>3.70</td>\n",
              "      <td>1</td>\n",
              "      <td>False</td>\n",
              "    </tr>\n",
              "    <tr>\n",
              "      <th>2</th>\n",
              "      <td>NJ</td>\n",
              "      <td>137</td>\n",
              "      <td>415</td>\n",
              "      <td>358-1921</td>\n",
              "      <td>no</td>\n",
              "      <td>no</td>\n",
              "      <td>0</td>\n",
              "      <td>243.4</td>\n",
              "      <td>114</td>\n",
              "      <td>41.38</td>\n",
              "      <td>...</td>\n",
              "      <td>110</td>\n",
              "      <td>10.30</td>\n",
              "      <td>162.6</td>\n",
              "      <td>104</td>\n",
              "      <td>7.32</td>\n",
              "      <td>12.2</td>\n",
              "      <td>5</td>\n",
              "      <td>3.29</td>\n",
              "      <td>0</td>\n",
              "      <td>False</td>\n",
              "    </tr>\n",
              "    <tr>\n",
              "      <th>3</th>\n",
              "      <td>OH</td>\n",
              "      <td>84</td>\n",
              "      <td>408</td>\n",
              "      <td>375-9999</td>\n",
              "      <td>yes</td>\n",
              "      <td>no</td>\n",
              "      <td>0</td>\n",
              "      <td>299.4</td>\n",
              "      <td>71</td>\n",
              "      <td>50.90</td>\n",
              "      <td>...</td>\n",
              "      <td>88</td>\n",
              "      <td>5.26</td>\n",
              "      <td>196.9</td>\n",
              "      <td>89</td>\n",
              "      <td>8.86</td>\n",
              "      <td>6.6</td>\n",
              "      <td>7</td>\n",
              "      <td>1.78</td>\n",
              "      <td>2</td>\n",
              "      <td>False</td>\n",
              "    </tr>\n",
              "    <tr>\n",
              "      <th>4</th>\n",
              "      <td>OK</td>\n",
              "      <td>75</td>\n",
              "      <td>415</td>\n",
              "      <td>330-6626</td>\n",
              "      <td>yes</td>\n",
              "      <td>no</td>\n",
              "      <td>0</td>\n",
              "      <td>166.7</td>\n",
              "      <td>113</td>\n",
              "      <td>28.34</td>\n",
              "      <td>...</td>\n",
              "      <td>122</td>\n",
              "      <td>12.61</td>\n",
              "      <td>186.9</td>\n",
              "      <td>121</td>\n",
              "      <td>8.41</td>\n",
              "      <td>10.1</td>\n",
              "      <td>3</td>\n",
              "      <td>2.73</td>\n",
              "      <td>3</td>\n",
              "      <td>False</td>\n",
              "    </tr>\n",
              "  </tbody>\n",
              "</table>\n",
              "<p>5 rows × 21 columns</p>\n",
              "</div>"
            ],
            "text/plain": [
              "  state  account length  area code phone number international plan  \\\n",
              "0    KS             128        415     382-4657                 no   \n",
              "1    OH             107        415     371-7191                 no   \n",
              "2    NJ             137        415     358-1921                 no   \n",
              "3    OH              84        408     375-9999                yes   \n",
              "4    OK              75        415     330-6626                yes   \n",
              "\n",
              "  voice mail plan  number vmail messages  total day minutes  total day calls  \\\n",
              "0             yes                     25              265.1              110   \n",
              "1             yes                     26              161.6              123   \n",
              "2              no                      0              243.4              114   \n",
              "3              no                      0              299.4               71   \n",
              "4              no                      0              166.7              113   \n",
              "\n",
              "   total day charge  ...  total eve calls  total eve charge  \\\n",
              "0             45.07  ...               99             16.78   \n",
              "1             27.47  ...              103             16.62   \n",
              "2             41.38  ...              110             10.30   \n",
              "3             50.90  ...               88              5.26   \n",
              "4             28.34  ...              122             12.61   \n",
              "\n",
              "   total night minutes  total night calls  total night charge  \\\n",
              "0                244.7                 91               11.01   \n",
              "1                254.4                103               11.45   \n",
              "2                162.6                104                7.32   \n",
              "3                196.9                 89                8.86   \n",
              "4                186.9                121                8.41   \n",
              "\n",
              "   total intl minutes  total intl calls  total intl charge  \\\n",
              "0                10.0                 3               2.70   \n",
              "1                13.7                 3               3.70   \n",
              "2                12.2                 5               3.29   \n",
              "3                 6.6                 7               1.78   \n",
              "4                10.1                 3               2.73   \n",
              "\n",
              "   customer service calls  churn  \n",
              "0                       1  False  \n",
              "1                       1  False  \n",
              "2                       0  False  \n",
              "3                       2  False  \n",
              "4                       3  False  \n",
              "\n",
              "[5 rows x 21 columns]"
            ]
          },
          "execution_count": 26,
          "metadata": {},
          "output_type": "execute_result"
        }
      ],
      "source": [
        "df_churn = pd.read_csv('C:\\\\Users\\\\David Linares\\\\Programación Ciencia de Datos/telecom_churn.csv')#Importación df\n",
        "df_churn.head(5) #Muestra las primeras 5 filas del df"
      ]
    },
    {
      "cell_type": "code",
      "execution_count": null,
      "metadata": {
        "id": "G_jrj5Okt2X6",
        "outputId": "1acc742b-af42-4c6a-b430-4c9f8235f2f5"
      },
      "outputs": [
        {
          "data": {
            "text/plain": [
              "(3333, 21)"
            ]
          },
          "execution_count": 17,
          "metadata": {},
          "output_type": "execute_result"
        }
      ],
      "source": [
        "df_churn.shape #Verifica cuantas filas y columnas tiene el df"
      ]
    },
    {
      "cell_type": "code",
      "execution_count": null,
      "metadata": {
        "id": "xqcwy9C4t2X6",
        "outputId": "c58e9dec-54e9-4a43-d381-cb0615c82eb7"
      },
      "outputs": [
        {
          "data": {
            "text/plain": [
              "state                      object\n",
              "account length              int64\n",
              "area code                   int64\n",
              "phone number               object\n",
              "international plan         object\n",
              "voice mail plan            object\n",
              "number vmail messages       int64\n",
              "total day minutes         float64\n",
              "total day calls             int64\n",
              "total day charge          float64\n",
              "total eve minutes         float64\n",
              "total eve calls             int64\n",
              "total eve charge          float64\n",
              "total night minutes       float64\n",
              "total night calls           int64\n",
              "total night charge        float64\n",
              "total intl minutes        float64\n",
              "total intl calls            int64\n",
              "total intl charge         float64\n",
              "customer service calls      int64\n",
              "churn                        bool\n",
              "customer_service_group     object\n",
              "dtype: object"
            ]
          },
          "execution_count": 127,
          "metadata": {},
          "output_type": "execute_result"
        }
      ],
      "source": [
        "# Muestra información general del dataset, incluyendo los tipos de datos.\n",
        "df_churn.columns # Nombre de Columnas\n",
        "df_churn.dtypes  # Tipo de datos\n",
        "#df_churn.index # Información de indices e incremental"
      ]
    },
    {
      "cell_type": "code",
      "execution_count": null,
      "metadata": {
        "id": "jIxSe1Rmt2X7",
        "outputId": "9fea6045-b285-46f3-e9cd-2f3fc17fbd21"
      },
      "outputs": [
        {
          "data": {
            "text/plain": [
              "state                     0\n",
              "account length            0\n",
              "area code                 0\n",
              "phone number              0\n",
              "international plan        0\n",
              "voice mail plan           0\n",
              "number vmail messages     0\n",
              "total day minutes         0\n",
              "total day calls           0\n",
              "total day charge          0\n",
              "total eve minutes         0\n",
              "total eve calls           0\n",
              "total eve charge          0\n",
              "total night minutes       0\n",
              "total night calls         0\n",
              "total night charge        0\n",
              "total intl minutes        0\n",
              "total intl calls          0\n",
              "total intl charge         0\n",
              "customer service calls    0\n",
              "churn                     0\n",
              "customer_service_group    0\n",
              "dtype: int64"
            ]
          },
          "execution_count": 129,
          "metadata": {},
          "output_type": "execute_result"
        }
      ],
      "source": [
        "#Identifica si hay valores nulos en alguna columna.\n",
        "df_churn.isnull().sum()"
      ]
    },
    {
      "cell_type": "markdown",
      "metadata": {
        "id": "PIGXq-ijFgb4"
      },
      "source": [
        "# **Sección2:** *Análisis de Churn y Factores Relacionados*"
      ]
    },
    {
      "cell_type": "code",
      "execution_count": null,
      "metadata": {
        "id": "3_TFqdwBwUD-",
        "outputId": "f432b5b9-e43e-4224-f23c-3ec28382d300"
      },
      "outputs": [
        {
          "name": "stdout",
          "output_type": "stream",
          "text": [
            "14.491449144914492\n"
          ]
        }
      ],
      "source": [
        "# Calcula el porcentaje de clientes que han desertado (churn = 1).\n",
        "total_clientes = len(df_churn)\n",
        "total_clientes_churn1 = len(df_churn.loc[df_churn['churn'] == 1])\n",
        "porcentaje = (total_clientes_churn1/total_clientes)*100\n",
        "print(porcentaje)"
      ]
    },
    {
      "cell_type": "code",
      "execution_count": null,
      "metadata": {
        "id": "PkmZWRoYt2X9",
        "outputId": "7e8fb258-8179-4f63-dfa1-75f3e4b929b0"
      },
      "outputs": [
        {
          "data": {
            "text/plain": [
              "international plan\n",
              "no     11.495017\n",
              "yes    42.414861\n",
              "Name: churn, dtype: float64"
            ]
          },
          "execution_count": 133,
          "metadata": {},
          "output_type": "execute_result"
        }
      ],
      "source": [
        "#Identifica si los clientes con plan internacional (international plan) tienen mayor tasa de deserción.\n",
        "\n",
        "# df_churn['international plan'].value_counts()\n",
        "# ip_yes = (df_churn['international plan'] == 'yes').sum()\n",
        "# ip_no = (df_churn['international plan'] == 'no').sum()\n",
        "# ip_yes_churn1 = len(df_churn[(df_churn['international plan'] == 'yes') & (df_churn['churn'] == True)])\n",
        "# ip_no_churn1 = len(df_churn[(df_churn['international plan'] == 'no') & (df_churn['churn'] == True)])\n",
        "# tasa_churn1 = (ip_yes_churn1/ip_yes)*100\n",
        "# tasa_churn2 = (ip_no_churn1/ip_no)*100\n",
        "# print(tasa_churn1,tasa_churn2)\n",
        "\n",
        "df_churn.groupby('international plan')['churn'].mean() * 100"
      ]
    },
    {
      "cell_type": "code",
      "execution_count": null,
      "metadata": {
        "id": "huQWBJaZt2X9",
        "outputId": "2b218b5e-32f4-4a78-edf2-b3a18ad52196"
      },
      "outputs": [
        {
          "data": {
            "text/plain": [
              "voice mail plan\n",
              "no     16.715056\n",
              "yes     8.676790\n",
              "Name: churn, dtype: float64"
            ]
          },
          "execution_count": 105,
          "metadata": {},
          "output_type": "execute_result"
        }
      ],
      "source": [
        "#Identifica si los clientes con buzón de voz (voice mail plan) tienen menor tasa de deserción.\n",
        "df_churn.groupby('voice mail plan')['churn'].mean() * 100"
      ]
    },
    {
      "cell_type": "markdown",
      "metadata": {
        "id": "yL8Y_juFFup7"
      },
      "source": [
        "# **Sección3:** *Análisis de la Duración del Servicio y Deserción*"
      ]
    },
    {
      "cell_type": "code",
      "execution_count": null,
      "metadata": {
        "id": "7ViU0n6lGFao",
        "outputId": "243d28ce-585d-4032-ace2-5e2d54151ad7"
      },
      "outputs": [
        {
          "data": {
            "text/plain": [
              "churn\n",
              "False    100.793684\n",
              "True     102.664596\n",
              "Name: account length, dtype: float64"
            ]
          },
          "execution_count": 106,
          "metadata": {},
          "output_type": "execute_result"
        }
      ],
      "source": [
        "# Duración promedio de la cuenta (account length) entre clientes que desertaron y los que permanecen\n",
        "df_churn.groupby('churn')['account length'].mean()"
      ]
    },
    {
      "cell_type": "markdown",
      "metadata": {
        "id": "vyaa82K0GF6B"
      },
      "source": [
        "# **Sección4:** *Relación entre Deserción y Uso del Servicio*\n"
      ]
    },
    {
      "cell_type": "code",
      "execution_count": null,
      "metadata": {
        "id": "d4aPKcv2GrpL",
        "outputId": "d4566359-83d7-42f8-b05b-5950f627f6e6"
      },
      "outputs": [
        {
          "data": {
            "text/plain": [
              "churn\n",
              "False    499250.9\n",
              "True      99939.5\n",
              "Name: total day minutes, dtype: float64"
            ]
          },
          "execution_count": 108,
          "metadata": {},
          "output_type": "execute_result"
        }
      ],
      "source": [
        "# Compara la cantidad de minutos usados en llamadas diurnas (total day minutes) entre clientes con y sin churn.\n",
        "df_churn.groupby('churn')['total day minutes'].sum()"
      ]
    },
    {
      "cell_type": "code",
      "execution_count": null,
      "metadata": {
        "id": "JLTbX6sNt2YA",
        "outputId": "ff19a818-c2a5-40ce-f542-2562fcbc1add"
      },
      "outputs": [
        {
          "data": {
            "text/plain": [
              "churn\n",
              "False    570379.6\n",
              "True      99126.9\n",
              "Name: total night minutes, dtype: float64"
            ]
          },
          "execution_count": 111,
          "metadata": {},
          "output_type": "execute_result"
        }
      ],
      "source": [
        "#Compara la cantidad de minutos usados en llamadas nocturnas (total night minutes).\n",
        "df_churn.groupby('churn')['total night minutes'].sum()"
      ]
    },
    {
      "cell_type": "code",
      "execution_count": null,
      "metadata": {
        "id": "gnab4Tx2t2YA",
        "outputId": "dc7f53e5-d1c8-452d-fe28-eac928c5b9e6"
      },
      "outputs": [
        {
          "data": {
            "text/plain": [
              "churn\n",
              "False    285807\n",
              "True      48945\n",
              "Name: total day calls, dtype: int64"
            ]
          },
          "execution_count": 136,
          "metadata": {},
          "output_type": "execute_result"
        }
      ],
      "source": [
        "#Compara el número total de llamadas (total day calls) entre clientes con y sin churn.\n",
        "df_churn.groupby('churn')['total day calls'].sum()"
      ]
    },
    {
      "cell_type": "markdown",
      "metadata": {
        "id": "aKl9LnZgGsDT"
      },
      "source": [
        "# **Sección5:** *Impacto de las Llamadas al Servicio al Cliente en la Deserción*\n"
      ]
    },
    {
      "cell_type": "code",
      "execution_count": null,
      "metadata": {
        "id": "ac9qDXgrGz-M",
        "outputId": "6da21657-91f6-43dd-be95-f3fa1812bba0"
      },
      "outputs": [
        {
          "name": "stdout",
          "output_type": "stream",
          "text": [
            "churn\n",
            "False    1.449825\n",
            "True     2.229814\n",
            "Name: customer service calls, dtype: float64\n",
            "customer_service_group\n",
            "3 veces o menos llamadas                   11.252446\n",
            "Clientes que llamaron más de 3 llamadas    51.685393\n",
            "Name: churn, dtype: float64\n"
          ]
        }
      ],
      "source": [
        "# Calcula el número promedio de llamadas al servicio al cliente (customer service calls) entre clientes que desertaron y los que no.\n",
        "\n",
        "# Divide los clientes en dos grupos y Compara la tasa de churn entre ambos grupos:\n",
        "# - Grupo 1: Clientes que llamaron más de 3 veces al servicio al cliente.\n",
        "# - Grupo 2: Clientes que llamaron 3 veces o menos.\n",
        "avg_csc = df_churn.groupby('churn')['customer service calls'].mean() # Número promedio de llamadas al servicio al cliente según churn 1/0\n",
        "df_churn['customer_service_group'] = df_churn['customer service calls'].apply(lambda x: 'Clientes que llamaron más de 3 llamadas' if x > 3 else '3 veces o menos llamadas') # Crea los grupos según el número de llamadas\n",
        "grupos = df_churn.groupby('customer_service_group')['churn'].mean() * 100 # Calcular la tasa de churn 1/0 en cada grupo\n",
        "\n",
        "print(avg_csc)\n",
        "print(grupos)"
      ]
    },
    {
      "cell_type": "markdown",
      "metadata": {
        "id": "U7oTziiyG0Wb"
      },
      "source": [
        "# **Sección6:** *Análisis del Costo de las Llamadas y Churn*"
      ]
    },
    {
      "cell_type": "code",
      "execution_count": null,
      "metadata": {
        "id": "YWGmcLdoIYwx",
        "outputId": "6a5d03a7-8ed5-408a-ecff-246dfdefc01b"
      },
      "outputs": [
        {
          "data": {
            "text/plain": [
              "churn\n",
              "False    84874.20\n",
              "True     16989.97\n",
              "Name: total day charge, dtype: float64"
            ]
          },
          "execution_count": 126,
          "metadata": {},
          "output_type": "execute_result"
        }
      ],
      "source": [
        "#Compara el costo total de llamadas diurnas (total day charge) entre clientes con y sin churn.\n",
        "\n",
        "#df_churn['total day charge'].sum()\n",
        "df_churn.groupby('churn')['total day charge'].sum()"
      ]
    },
    {
      "cell_type": "code",
      "execution_count": null,
      "metadata": {
        "id": "RVlBvfAqt2YC",
        "outputId": "9cfc3b2b-3b7c-42c9-939b-8eac27c0cb48"
      },
      "outputs": [
        {
          "data": {
            "text/plain": [
              "churn\n",
              "False    25667.31\n",
              "True      4460.76\n",
              "Name: total night charge, dtype: float64"
            ]
          },
          "execution_count": 137,
          "metadata": {},
          "output_type": "execute_result"
        }
      ],
      "source": [
        "#Compara el costo total de llamadas nocturnas (total night charge).\n",
        "df_churn.groupby('churn')['total night charge'].sum()"
      ]
    }
  ],
  "metadata": {
    "colab": {
      "provenance": [],
      "include_colab_link": true
    },
    "kernelspec": {
      "display_name": "Python 3 (ipykernel)",
      "language": "python",
      "name": "python3"
    },
    "language_info": {
      "codemirror_mode": {
        "name": "ipython",
        "version": 3
      },
      "file_extension": ".py",
      "mimetype": "text/x-python",
      "name": "python",
      "nbconvert_exporter": "python",
      "pygments_lexer": "ipython3",
      "version": "3.11.7"
    }
  },
  "nbformat": 4,
  "nbformat_minor": 0
}